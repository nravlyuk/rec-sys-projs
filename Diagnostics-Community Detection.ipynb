{
 "cells": [
  {
   "cell_type": "code",
   "execution_count": 1,
   "metadata": {},
   "outputs": [],
   "source": [
    "import numpy as np\n",
    "from urllib.request import urlopen\n",
    "import scipy.optimize\n",
    "import random\n",
    "from sklearn import svm\n",
    "from sklearn import linear_model\n",
    "import matplotlib.pyplot as plt \n",
    "from collections import defaultdict"
   ]
  },
  {
   "cell_type": "code",
   "execution_count": 2,
   "metadata": {},
   "outputs": [],
   "source": [
    "def parseDataFromURL(fname):\n",
    "    for l in urlopen(fname):\n",
    "        yield eval(l)\n",
    "\n",
    "def parseData(fname):\n",
    "    for l in open(fname):\n",
    "        yield eval(l)\n",
    "        \n",
    "def ber_report(pred, y, acc = False):\n",
    "    if acc:\n",
    "        correct = pred == y\n",
    "        accuracy = sum(correct) / len(correct)\n",
    "    # True positives, false positives, etc.\n",
    "    TP_ = np.logical_and(pred, y)\n",
    "    FP_ = np.logical_and(pred, np.logical_not(y))\n",
    "    TN_ = np.logical_and(np.logical_not(pred), np.logical_not(y))\n",
    "    FN_ = np.logical_and(np.logical_not(pred), y)\n",
    "\n",
    "    TP = sum(TP_)/len(y)\n",
    "    FP = sum(FP_)/len(y)\n",
    "    TN = sum(TN_)/len(y)\n",
    "    FN = sum(FN_)/len(y)\n",
    "    TPR = TP / (TP+FN)\n",
    "    TNR = TN / (TN+FP)\n",
    "    FPR = FP / (FP+TN)\n",
    "    FNR = FN / (TP+FN)\n",
    "\n",
    "    BER = 1 - 0.5 * (TP / (TP + FN) + TN / (TN + FP))\n",
    "\n",
    "    if acc:\n",
    "        print(\"Accuracy: {}\".format(accuracy))\n",
    "    print(\"BER: {}\".format(BER))"
   ]
  },
  {
   "cell_type": "code",
   "execution_count": 3,
   "metadata": {},
   "outputs": [
    {
     "name": "stdout",
     "output_type": "stream",
     "text": [
      "Reading data...\n",
      "done\n"
     ]
    }
   ],
   "source": [
    "print(\"Reading data...\")\n",
    "# Download from http://jmcauley.ucsd.edu/cse258/data/amazon/book_descriptions_50000.json\n",
    "data = list(parseData(\"data/beer_50000.json\"))\n",
    "print(\"done\")"
   ]
  },
  {
   "cell_type": "markdown",
   "metadata": {},
   "source": [
    "**Diagnostics**"
   ]
  },
  {
   "cell_type": "code",
   "execution_count": 4,
   "metadata": {},
   "outputs": [
    {
     "name": "stdout",
     "output_type": "stream",
     "text": [
      "Logistic regressor:\n"
     ]
    },
    {
     "name": "stderr",
     "output_type": "stream",
     "text": [
      "C:\\Users\\SD-PC\\Anaconda3\\lib\\site-packages\\sklearn\\linear_model\\logistic.py:432: FutureWarning: Default solver will be changed to 'lbfgs' in 0.22. Specify a solver to silence this warning.\n",
      "  FutureWarning)\n"
     ]
    },
    {
     "name": "stdout",
     "output_type": "stream",
     "text": [
      "Accuracy: 0.84848\n",
      "BER: 0.16180782764368185\n"
     ]
    }
   ],
   "source": [
    "print(\"Logistic regressor:\")\n",
    "\n",
    "#Setting categories\n",
    "categoryCounts = defaultdict(int)\n",
    "for d in data:\n",
    "    categoryCounts[d['beer/style']] += 1\n",
    "\n",
    "categories = [c for c in categoryCounts if categoryCounts[c] > 1000]\n",
    "catID = dict(zip(list(categories),range(len(categories))))\n",
    "\n",
    "#Finding data set / splitting in train/test\n",
    "data_set = data\n",
    "        \n",
    "random.shuffle(data_set)\n",
    "data_train = data_set[:len(data_set)//2]\n",
    "data_test = data_set[len(data_set)//2:]\n",
    "\n",
    "def feature(datum):\n",
    "    catOneHot = [0]*len(categories)\n",
    "    if datum['beer/style'] in catID.keys():\n",
    "        catOneHot[catID[datum['beer/style']]] = 1\n",
    "    feat = catOneHot\n",
    "    feat.append(1)\n",
    "    return feat\n",
    "\n",
    "X_train = np.array([feature(d) for d in data_train])\n",
    "y_train = [1 if d['beer/ABV'] > 7 else 0 for d in data_train]\n",
    "X_test = np.array([feature(d) for d in data_test])\n",
    "y_test = [1 if d['beer/ABV'] > 7 else 0 for d in data_test]\n",
    "\n",
    "#Train on train set\n",
    "mod = linear_model.LogisticRegression(C=10.0, class_weight='balanced')\n",
    "mod.fit(X_train, y_train)\n",
    "\n",
    "#Test on test set\n",
    "pred = mod.predict(X_test)\n",
    "ber_report(pred, y_test, acc = True) # acc = True to report accuracy"
   ]
  },
  {
   "cell_type": "code",
   "execution_count": 5,
   "metadata": {},
   "outputs": [
    {
     "name": "stdout",
     "output_type": "stream",
     "text": [
      "Two  additional  features: a  vector  of  five  ratings; and the review length\n"
     ]
    },
    {
     "name": "stderr",
     "output_type": "stream",
     "text": [
      "C:\\Users\\SD-PC\\Anaconda3\\lib\\site-packages\\sklearn\\linear_model\\logistic.py:432: FutureWarning: Default solver will be changed to 'lbfgs' in 0.22. Specify a solver to silence this warning.\n",
      "  FutureWarning)\n"
     ]
    },
    {
     "name": "stdout",
     "output_type": "stream",
     "text": [
      "BER: 0.14544004773957242\n"
     ]
    }
   ],
   "source": [
    "print(\"Two  additional  features: a  vector  of  five  ratings; and the review length\")\n",
    "\n",
    "def feature(datum):\n",
    "    catOneHot = [0]*len(categories)\n",
    "    if datum['beer/style'] in catID.keys():\n",
    "        catOneHot[catID[datum['beer/style']]] = 1\n",
    "    \n",
    "    feat = catOneHot\n",
    "    feat.extend([len(datum['review/text']), datum['review/appearance'], datum['review/palate'],datum['review/taste'],datum['review/overall'],datum['review/aroma']]) \n",
    "    feat.append(1)\n",
    "    return feat\n",
    "\n",
    "X_train = np.array([feature(d) for d in data_train])\n",
    "y_train = [1 if d['beer/ABV'] > 7 else 0 for d in data_train]\n",
    "X_test = np.array([feature(d) for d in data_test])\n",
    "y_test = [1 if d['beer/ABV'] > 7 else 0 for d in data_test]\n",
    "\n",
    "#Normalize:\n",
    "X_train = X_train / X_train.max(axis=0)\n",
    "X_test = X_test / X_test.max(axis=0)\n",
    "\n",
    "#Train on train set\n",
    "mod = linear_model.LogisticRegression(C=10.0, class_weight='balanced', max_iter=250)\n",
    "mod.fit(X_train, y_train)\n",
    "\n",
    "#Test on test set\n",
    "pred = mod.predict(X_test)\n",
    "ber_report(pred, y_test)"
   ]
  },
  {
   "cell_type": "code",
   "execution_count": 6,
   "metadata": {},
   "outputs": [
    {
     "name": "stdout",
     "output_type": "stream",
     "text": [
      "Complete regularization pipeline with the balanced classifier:\n",
      "C = 1e-06:\n",
      "         Train "
     ]
    },
    {
     "name": "stderr",
     "output_type": "stream",
     "text": [
      "C:\\Users\\SD-PC\\Anaconda3\\lib\\site-packages\\sklearn\\linear_model\\logistic.py:432: FutureWarning: Default solver will be changed to 'lbfgs' in 0.22. Specify a solver to silence this warning.\n",
      "  FutureWarning)\n"
     ]
    },
    {
     "name": "stdout",
     "output_type": "stream",
     "text": [
      "BER: 0.49996247936365\n",
      "    Validation BER: 0.5\n",
      "          Test BER: 0.5\n",
      "\n",
      "C = 1e-05:\n",
      "         Train "
     ]
    },
    {
     "name": "stderr",
     "output_type": "stream",
     "text": [
      "C:\\Users\\SD-PC\\Anaconda3\\lib\\site-packages\\sklearn\\linear_model\\logistic.py:432: FutureWarning: Default solver will be changed to 'lbfgs' in 0.22. Specify a solver to silence this warning.\n",
      "  FutureWarning)\n"
     ]
    },
    {
     "name": "stdout",
     "output_type": "stream",
     "text": [
      "BER: 0.4994371904547501\n",
      "    Validation BER: 0.4997005091344714\n",
      "          Test BER: 0.4997755163124813\n",
      "\n",
      "C = 0.0001:\n",
      "         Train "
     ]
    },
    {
     "name": "stderr",
     "output_type": "stream",
     "text": [
      "C:\\Users\\SD-PC\\Anaconda3\\lib\\site-packages\\sklearn\\linear_model\\logistic.py:432: FutureWarning: Default solver will be changed to 'lbfgs' in 0.22. Specify a solver to silence this warning.\n",
      "  FutureWarning)\n"
     ]
    },
    {
     "name": "stdout",
     "output_type": "stream",
     "text": [
      "BER: 0.26087534712534577\n",
      "    Validation BER: 0.26330267744422264\n",
      "          Test BER: 0.26148185059546947\n",
      "\n",
      "C = 0.001:\n",
      "         Train "
     ]
    },
    {
     "name": "stderr",
     "output_type": "stream",
     "text": [
      "C:\\Users\\SD-PC\\Anaconda3\\lib\\site-packages\\sklearn\\linear_model\\logistic.py:432: FutureWarning: Default solver will be changed to 'lbfgs' in 0.22. Specify a solver to silence this warning.\n",
      "  FutureWarning)\n"
     ]
    },
    {
     "name": "stdout",
     "output_type": "stream",
     "text": [
      "BER: 0.1614235546699906\n",
      "    Validation BER: 0.15693365078747779\n",
      "          Test BER: 0.16500891195352096\n",
      "\n",
      "Based on these values, I would choose the C=10**(-3) classifier as it shows the best BER on average.\n"
     ]
    }
   ],
   "source": [
    "print(\"Complete regularization pipeline with the balanced classifier:\")\n",
    "\n",
    "#Split test sat into validation/test sets:\n",
    "data_valid = data_test[:len(data_test)//2]\n",
    "data_test = data_test[len(data_test)//2:]\n",
    "\n",
    "X_train = np.array([feature(d) for d in data_train])\n",
    "y_train = [1 if d['beer/ABV'] > 7 else 0 for d in data_train]\n",
    "X_valid = np.array([feature(d) for d in data_valid])\n",
    "y_valid = [1 if d['beer/ABV'] > 7 else 0 for d in data_valid]\n",
    "X_test = np.array([feature(d) for d in data_test])\n",
    "y_test = [1 if d['beer/ABV'] > 7 else 0 for d in data_test]\n",
    "\n",
    "#Normalize:\n",
    "X_train = X_train / X_train.max(axis=0)\n",
    "X_valid = X_valid / X_valid.max(axis=0)\n",
    "X_test = X_test / X_test.max(axis=0)\n",
    "\n",
    "#Train on train set, report BER(train/validation/test) for each C:\n",
    "\n",
    "def test_C(c):\n",
    "    print(\"C = {}:\".format(c))\n",
    "    #Train/report on train set\n",
    "    print(\"Train \".rjust(15), end = '')\n",
    "    mod = linear_model.LogisticRegression(C=c, class_weight='balanced')\n",
    "    mod.fit(X_train, y_train)\n",
    "    pred = mod.predict(X_train)\n",
    "    ber_report(pred, y_train)\n",
    "    \n",
    "    #Report on validation set\n",
    "    print(\"Validation \".rjust(15), end = '')\n",
    "    pred = mod.predict(X_valid)\n",
    "    ber_report(pred, y_valid)\n",
    "\n",
    "    #Report on test set\n",
    "    print(\"Test \".rjust(15), end = '')\n",
    "    pred = mod.predict(X_test)\n",
    "    ber_report(pred, y_test)\n",
    "    \n",
    "    print()\n",
    "\n",
    "c_range = [10**(-6), 10**(-5), 10**(-4), 10**(-3)]\n",
    "for c in c_range:\n",
    "    test_C(c)\n",
    "\n",
    "print(\"Based on these values, I would choose the C=10**(-3) classifier as it shows the best BER on average.\")"
   ]
  },
  {
   "cell_type": "code",
   "execution_count": 7,
   "metadata": {},
   "outputs": [
    {
     "name": "stdout",
     "output_type": "stream",
     "text": [
      "Ablation study:\n",
      "\n",
      "\n",
      "Beer Style Ablated:\n",
      "C = 1e-06:\n",
      "         Train BER: 0.5"
     ]
    },
    {
     "name": "stderr",
     "output_type": "stream",
     "text": [
      "C:\\Users\\SD-PC\\Anaconda3\\lib\\site-packages\\sklearn\\linear_model\\logistic.py:432: FutureWarning: Default solver will be changed to 'lbfgs' in 0.22. Specify a solver to silence this warning.\n",
      "  FutureWarning)\n"
     ]
    },
    {
     "name": "stdout",
     "output_type": "stream",
     "text": [
      "\n",
      "    Validation BER: 0.5\n",
      "          Test BER: 0.5\n",
      "\n",
      "C = 1e-05:\n",
      "         Train "
     ]
    },
    {
     "name": "stderr",
     "output_type": "stream",
     "text": [
      "C:\\Users\\SD-PC\\Anaconda3\\lib\\site-packages\\sklearn\\linear_model\\logistic.py:432: FutureWarning: Default solver will be changed to 'lbfgs' in 0.22. Specify a solver to silence this warning.\n",
      "  FutureWarning)\n"
     ]
    },
    {
     "name": "stdout",
     "output_type": "stream",
     "text": [
      "BER: 0.5\n",
      "    Validation BER: 0.5\n",
      "          Test BER: 0.5\n",
      "\n",
      "C = 0.0001:\n",
      "         Train "
     ]
    },
    {
     "name": "stderr",
     "output_type": "stream",
     "text": [
      "C:\\Users\\SD-PC\\Anaconda3\\lib\\site-packages\\sklearn\\linear_model\\logistic.py:432: FutureWarning: Default solver will be changed to 'lbfgs' in 0.22. Specify a solver to silence this warning.\n",
      "  FutureWarning)\n"
     ]
    },
    {
     "name": "stdout",
     "output_type": "stream",
     "text": [
      "BER: 0.494131919034825\n",
      "    Validation BER: 0.4933164204843522\n",
      "          Test BER: 0.4920800755718019\n",
      "\n",
      "C = 0.001:\n",
      "         Train "
     ]
    },
    {
     "name": "stderr",
     "output_type": "stream",
     "text": [
      "C:\\Users\\SD-PC\\Anaconda3\\lib\\site-packages\\sklearn\\linear_model\\logistic.py:432: FutureWarning: Default solver will be changed to 'lbfgs' in 0.22. Specify a solver to silence this warning.\n",
      "  FutureWarning)\n"
     ]
    },
    {
     "name": "stdout",
     "output_type": "stream",
     "text": [
      "BER: 0.3730568045078554\n",
      "    Validation BER: 0.37629545746123716\n",
      "          Test BER: 0.3783544838963886\n",
      "\n",
      "\n",
      "\n",
      "Ratings Ablated:\n",
      "C = 1e-06:\n",
      "         Train "
     ]
    },
    {
     "name": "stderr",
     "output_type": "stream",
     "text": [
      "C:\\Users\\SD-PC\\Anaconda3\\lib\\site-packages\\sklearn\\linear_model\\logistic.py:432: FutureWarning: Default solver will be changed to 'lbfgs' in 0.22. Specify a solver to silence this warning.\n",
      "  FutureWarning)\n"
     ]
    },
    {
     "name": "stdout",
     "output_type": "stream",
     "text": [
      "BER: 0.2660893335432484\n",
      "    Validation BER: 0.2692566659351723\n",
      "          Test BER: 0.2674782428053839\n",
      "\n",
      "C = 1e-05:\n",
      "         Train "
     ]
    },
    {
     "name": "stderr",
     "output_type": "stream",
     "text": [
      "C:\\Users\\SD-PC\\Anaconda3\\lib\\site-packages\\sklearn\\linear_model\\logistic.py:432: FutureWarning: Default solver will be changed to 'lbfgs' in 0.22. Specify a solver to silence this warning.\n",
      "  FutureWarning)\n"
     ]
    },
    {
     "name": "stdout",
     "output_type": "stream",
     "text": [
      "BER: 0.1638418069290517\n",
      "    Validation BER: 0.16366437619427265\n",
      "          Test BER: 0.17061035486377207\n",
      "\n",
      "C = 0.0001:\n",
      "         Train "
     ]
    },
    {
     "name": "stderr",
     "output_type": "stream",
     "text": [
      "C:\\Users\\SD-PC\\Anaconda3\\lib\\site-packages\\sklearn\\linear_model\\logistic.py:432: FutureWarning: Default solver will be changed to 'lbfgs' in 0.22. Specify a solver to silence this warning.\n",
      "  FutureWarning)\n"
     ]
    },
    {
     "name": "stdout",
     "output_type": "stream",
     "text": [
      "BER: 0.16158390284092605\n",
      "    Validation BER: 0.15753481877098863\n",
      "          Test BER: 0.16608464334025552\n",
      "\n",
      "C = 0.001:\n",
      "         Train "
     ]
    },
    {
     "name": "stderr",
     "output_type": "stream",
     "text": [
      "C:\\Users\\SD-PC\\Anaconda3\\lib\\site-packages\\sklearn\\linear_model\\logistic.py:432: FutureWarning: Default solver will be changed to 'lbfgs' in 0.22. Specify a solver to silence this warning.\n",
      "  FutureWarning)\n"
     ]
    },
    {
     "name": "stdout",
     "output_type": "stream",
     "text": [
      "BER: 0.16162673306192998\n",
      "    Validation BER: 0.15753481877098863\n",
      "          Test BER: 0.16608464334025552\n",
      "\n",
      "\n",
      "\n",
      "Review Length Ablated:\n",
      "C = 1e-06:\n",
      "         Train "
     ]
    },
    {
     "name": "stderr",
     "output_type": "stream",
     "text": [
      "C:\\Users\\SD-PC\\Anaconda3\\lib\\site-packages\\sklearn\\linear_model\\logistic.py:432: FutureWarning: Default solver will be changed to 'lbfgs' in 0.22. Specify a solver to silence this warning.\n",
      "  FutureWarning)\n"
     ]
    },
    {
     "name": "stdout",
     "output_type": "stream",
     "text": [
      "BER: 0.49996247936365\n",
      "    Validation BER: 0.5\n",
      "          Test BER: 0.5\n",
      "\n",
      "C = 1e-05:\n",
      "         Train "
     ]
    },
    {
     "name": "stderr",
     "output_type": "stream",
     "text": [
      "C:\\Users\\SD-PC\\Anaconda3\\lib\\site-packages\\sklearn\\linear_model\\logistic.py:432: FutureWarning: Default solver will be changed to 'lbfgs' in 0.22. Specify a solver to silence this warning.\n",
      "  FutureWarning)\n"
     ]
    },
    {
     "name": "stdout",
     "output_type": "stream",
     "text": [
      "BER: 0.4993996698184001\n",
      "    Validation BER: 0.4997005091344714\n",
      "          Test BER: 0.49962586052080216\n",
      "\n",
      "C = 0.0001:\n",
      "         Train "
     ]
    },
    {
     "name": "stderr",
     "output_type": "stream",
     "text": [
      "C:\\Users\\SD-PC\\Anaconda3\\lib\\site-packages\\sklearn\\linear_model\\logistic.py:432: FutureWarning: Default solver will be changed to 'lbfgs' in 0.22. Specify a solver to silence this warning.\n",
      "  FutureWarning)\n"
     ]
    },
    {
     "name": "stdout",
     "output_type": "stream",
     "text": [
      "BER: 0.25958796568882114\n",
      "    Validation BER: 0.26289966109486085\n",
      "          Test BER: 0.26114696425104345\n",
      "\n",
      "C = 0.001:\n",
      "         Train "
     ]
    },
    {
     "name": "stderr",
     "output_type": "stream",
     "text": [
      "C:\\Users\\SD-PC\\Anaconda3\\lib\\site-packages\\sklearn\\linear_model\\logistic.py:432: FutureWarning: Default solver will be changed to 'lbfgs' in 0.22. Specify a solver to silence this warning.\n",
      "  FutureWarning)\n"
     ]
    },
    {
     "name": "stdout",
     "output_type": "stream",
     "text": [
      "BER: 0.1616699168267064\n",
      "    Validation BER: 0.1571692773607436\n",
      "          Test BER: 0.16513930129831667\n",
      "\n"
     ]
    }
   ],
   "source": [
    "print(\"Ablation study:\")\n",
    "\n",
    "print(\"\\n\\nBeer Style Ablated:\")\n",
    "\n",
    "def feature(datum):\n",
    "    feat = [len(datum['review/text']), datum['review/appearance'], datum['review/palate'],datum['review/taste'],datum['review/overall'],datum['review/aroma']] \n",
    "    feat.append(1)\n",
    "    return feat\n",
    "\n",
    "#Set inputs + normalize\n",
    "X_train = np.array([feature(d) for d in data_train])\n",
    "X_valid = np.array([feature(d) for d in data_valid])\n",
    "X_test = np.array([feature(d) for d in data_test])\n",
    "X_train = X_train / X_train.max(axis=0)\n",
    "X_valid = X_valid / X_valid.max(axis=0)\n",
    "X_test = X_test / X_test.max(axis=0)\n",
    "\n",
    "for c in c_range:\n",
    "    test_C(c)\n",
    "\n",
    "    \n",
    "    \n",
    "    \n",
    "print(\"\\n\\nRatings Ablated:\")\n",
    "\n",
    "def feature(datum):\n",
    "    catOneHot = [0]*len(categories)\n",
    "    if datum['beer/style'] in catID.keys():\n",
    "        catOneHot[catID[datum['beer/style']]] = 1\n",
    "    \n",
    "    feat = catOneHot\n",
    "    feat.append(len(datum['review/text'])) \n",
    "    feat.append(1)\n",
    "    return feat\n",
    "\n",
    "#Set inputs + normalize\n",
    "X_train = np.array([feature(d) for d in data_train])\n",
    "X_valid = np.array([feature(d) for d in data_valid])\n",
    "X_test = np.array([feature(d) for d in data_test])\n",
    "X_train = X_train / X_train.max(axis=0)\n",
    "X_valid = X_valid / X_valid.max(axis=0)\n",
    "X_test = X_test / X_test.max(axis=0)\n",
    "\n",
    "for c in c_range:\n",
    "    test_C(c)\n",
    "\n",
    "    \n",
    "    \n",
    "\n",
    "print(\"\\n\\nReview Length Ablated:\")\n",
    "\n",
    "def feature(datum):\n",
    "    catOneHot = [0]*len(categories)\n",
    "    if datum['beer/style'] in catID.keys():\n",
    "        catOneHot[catID[datum['beer/style']]] = 1\n",
    "    \n",
    "    feat = catOneHot\n",
    "    feat.extend([datum['review/appearance'], datum['review/palate'],datum['review/taste'],datum['review/overall'],datum['review/aroma']]) \n",
    "    feat.append(1)\n",
    "    return feat\n",
    "\n",
    "#Set inputs + normalize\n",
    "X_train = np.array([feature(d) for d in data_train])\n",
    "X_valid = np.array([feature(d) for d in data_valid])\n",
    "X_test = np.array([feature(d) for d in data_test])\n",
    "X_train = X_train / X_train.max(axis=0)\n",
    "X_valid = X_valid / X_valid.max(axis=0)\n",
    "X_test = X_test / X_test.max(axis=0)\n",
    "\n",
    "for c in c_range:\n",
    "    test_C(c)"
   ]
  },
  {
   "cell_type": "markdown",
   "metadata": {},
   "source": [
    "**Egonet**"
   ]
  },
  {
   "cell_type": "code",
   "execution_count": 8,
   "metadata": {},
   "outputs": [
    {
     "name": "stderr",
     "output_type": "stream",
     "text": [
      "C:\\Users\\SD-PC\\Anaconda3\\lib\\site-packages\\networkx\\drawing\\nx_pylab.py:579: MatplotlibDeprecationWarning: \n",
      "The iterable function was deprecated in Matplotlib 3.1 and will be removed in 3.3. Use np.iterable instead.\n",
      "  if not cb.iterable(width):\n"
     ]
    },
    {
     "data": {
      "image/png": "[encoded data removed]",
      "text/plain": [
       "<Figure size 432x288 with 1 Axes>"
      ]
     },
     "metadata": {},
     "output_type": "display_data"
    },
    {
     "data": {
      "text/plain": [
       "<Figure size 432x288 with 0 Axes>"
      ]
     },
     "metadata": {},
     "output_type": "display_data"
    }
   ],
   "source": [
    "import networkx as nx\n",
    "from sklearn.decomposition import PCA\n",
    "edges = set()\n",
    "nodes = set()\n",
    "for edge in open(\"data/egonet.txt\", 'r'):\n",
    "    x,y = edge.split()\n",
    "    x,y = int(x),int(y)\n",
    "    edges.add((x,y))\n",
    "    edges.add((y,x))\n",
    "    nodes.add(x)\n",
    "    nodes.add(y)\n",
    "\n",
    "G = nx.Graph()\n",
    "for e in edges:\n",
    "    G.add_edge(e[0],e[1])\n",
    "nx.draw(G)\n",
    "plt.show()\n",
    "plt.clf()"
   ]
  },
  {
   "cell_type": "code",
   "execution_count": 9,
   "metadata": {},
   "outputs": [
    {
     "name": "stdout",
     "output_type": "stream",
     "text": [
      "Connected component:\n",
      "Number of connected components: 3\n",
      "Number of nodes in the largest connected component: 40\n"
     ]
    }
   ],
   "source": [
    "print(\"Connected component:\")\n",
    "\n",
    "to_process = set(nodes)\n",
    "processed = set()\n",
    "\n",
    "clusters = []\n",
    "while len(to_process) > 0:\n",
    "    curr = set()\n",
    "    curr.add(to_process.pop())\n",
    "    added = True\n",
    "    while len(set(curr - processed)) > 0 and len(to_process) > 0:               \n",
    "        check = set(curr - processed)\n",
    "        x = check.pop()  \n",
    "        curr.add(x)\n",
    "        processed.add(x)\n",
    "        for e in edges:\n",
    "            if e[0] == x:\n",
    "                if e[1] in to_process:\n",
    "                    to_process.remove(e[1])\n",
    "                curr.add(e[1])\n",
    "            if e[1] == x:\n",
    "                if e[0] in to_process:\n",
    "                    to_process.remove(e[0])\n",
    "                curr.add(e[1])\n",
    "    clusters.append(set(curr))\n",
    "    \n",
    "print(\"Number of connected components: {}\".format(nx.number_connected_components(G)))\n",
    "print(\"Number of nodes in the largest connected component: {}\".format(max(len(c) for c in clusters)))"
   ]
  },
  {
   "cell_type": "code",
   "execution_count": 10,
   "metadata": {},
   "outputs": [
    {
     "name": "stdout",
     "output_type": "stream",
     "text": [
      "Normalized-cut cost:\n",
      "Normalized Cut Cost: 0.42240587695133147\n"
     ]
    }
   ],
   "source": [
    "print(\"Normalized-cut cost:\")\n",
    "\n",
    "def norm_cut_cost(t, b):\n",
    "    top_degree = sum([G.degree(n) for n in t])\n",
    "    bot_degree = sum([G.degree(n) for n in b])\n",
    "    cut = 0\n",
    "    for e in edges:\n",
    "        if e[0] in t and e[1] in b:\n",
    "            cut+=1\n",
    "    cost = 1/2*(cut/top_degree + cut/bot_degree)\n",
    "    \n",
    "    return cost\n",
    "\n",
    "largest_comp = list(clusters[0])\n",
    "largest_comp.sort()\n",
    "top = largest_comp[len(largest_comp)//2:]\n",
    "bot = largest_comp[:len(largest_comp)//2]\n",
    "\n",
    "print(\"Normalized Cut Cost: {}\".format(norm_cut_cost(top, bot)))\n"
   ]
  },
  {
   "cell_type": "code",
   "execution_count": 11,
   "metadata": {},
   "outputs": [
    {
     "name": "stdout",
     "output_type": "stream",
     "text": [
      "Top:\n",
      " {864, 804, 876, 861, 878, 882, 884, 729, 886, 888, 825, 893, 889, 863}\n",
      "\n",
      "Bot:\n",
      " {769, 772, 708, 774, 840, 713, 719, 856, 798, 800, 803, 805, 869, 745, 810, 811, 747, 880, 753, 819, 823, 697, 890, 828, 830, 703}\n",
      "Normalized Cut Cost: 0.09817045961624274\n"
     ]
    }
   ],
   "source": [
    "top = set(top)\n",
    "bot = set(bot)\n",
    "\n",
    "minimised = False\n",
    "while not minimised:\n",
    "    minimised = True\n",
    "    t = set(top)\n",
    "    b = set(bot)\n",
    "    cost = norm_cut_cost(list(top), list(bot))\n",
    "    min_cost = cost\n",
    "    for i in largest_comp:\n",
    "        if i in t:\n",
    "            t.remove(i)\n",
    "            b.add(i)\n",
    "        else:\n",
    "            b.remove(i)\n",
    "            t.add(i)\n",
    "        c = norm_cut_cost(list(t), list(b))\n",
    "        if c < min_cost:\n",
    "            min_cost = c\n",
    "            min_t = set(t)\n",
    "            min_b = set(b)\n",
    "            minimised = False\n",
    "        t = set(top)\n",
    "        b = set(bot)\n",
    "    if not minimised:\n",
    "        top = set(min_t)\n",
    "        bot = set(min_b)\n",
    "\n",
    "print(\"Top:\\n\", top)\n",
    "print(\"\\nBot:\\n\", bot)\n",
    "\n",
    "print(\"Normalized Cut Cost: {}\".format(norm_cut_cost(list(top), list(bot))))\n"
   ]
  },
  {
   "cell_type": "code",
   "execution_count": null,
   "metadata": {},
   "outputs": [],
   "source": []
  }
 ],
 "metadata": {
  "kernelspec": {
   "display_name": "Python 3",
   "language": "python",
   "name": "python3"
  },
  "language_info": {
   "codemirror_mode": {
    "name": "ipython",
    "version": 3
   },
   "file_extension": ".py",
   "mimetype": "text/x-python",
   "name": "python",
   "nbconvert_exporter": "python",
   "pygments_lexer": "ipython3",
   "version": "3.7.4"
  }
 },
 "nbformat": 4,
 "nbformat_minor": 4
}

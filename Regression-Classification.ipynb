{
 "cells": [
  {
   "cell_type": "code",
   "execution_count": 1,
   "metadata": {},
   "outputs": [],
   "source": [
    "import numpy as np\n",
    "from urllib.request import urlopen\n",
    "import scipy.optimize\n",
    "import random\n",
    "from sklearn import svm\n",
    "from sklearn import linear_model\n",
    "import matplotlib.pyplot as plt "
   ]
  },
  {
   "cell_type": "code",
   "execution_count": 2,
   "metadata": {},
   "outputs": [],
   "source": [
    "def parseDataFromURL(fname):\n",
    "    for l in urlopen(fname):\n",
    "        yield eval(l)\n",
    "\n",
    "def parseData(fname):\n",
    "    for l in open(fname):\n",
    "        yield eval(l)"
   ]
  },
  {
   "cell_type": "code",
   "execution_count": 3,
   "metadata": {},
   "outputs": [
    {
     "name": "stdout",
     "output_type": "stream",
     "text": [
      "Reading data...\n",
      "done\n"
     ]
    }
   ],
   "source": [
    "print(\"Reading data...\")\n",
    "# Download from http://jmcauley.ucsd.edu/cse258/data/amazon/book_descriptions_50000.json\n",
    "data = list(parseData(\"data/fantasy_10000.json\"))\n",
    "print(\"done\")"
   ]
  },
  {
   "cell_type": "markdown",
   "metadata": {},
   "source": [
    "**Regression**"
   ]
  },
  {
   "cell_type": "code",
   "execution_count": 4,
   "metadata": {},
   "outputs": [
    {
     "name": "stdout",
     "output_type": "stream",
     "text": [
      "Distribution  of  ratings  and  review  lengths  in  the  dataset:\n"
     ]
    },
    {
     "data": {
      "image/png": "[encoded data removed]",
      "text/plain": [
       "<Figure size 432x288 with 1 Axes>"
      ]
     },
     "metadata": {
      "needs_background": "light"
     },
     "output_type": "display_data"
    },
    {
     "name": "stdout",
     "output_type": "stream",
     "text": [
      "0-star reviews: 326\n",
      "1-star reviews: 286\n",
      "2-star reviews: 778\n",
      "3-star reviews: 2113\n",
      "4-star reviews: 3265\n",
      "5-star reviews: 3232\n"
     ]
    }
   ],
   "source": [
    "print(\"Distribution  of  ratings  and  review  lengths  in  the  dataset:\")\n",
    "\n",
    "rating_sum = [0]*6\n",
    "x = []\n",
    "y = []\n",
    "for d in data:\n",
    "    y.append(d['rating'])\n",
    "    x.append(len(d['review_text']))\n",
    "    rating_sum[d['rating']] += 1\n",
    "\n",
    "plt.scatter(x, y, c =\"blue\", alpha=0.1, s=100) \n",
    "plt.show()\n",
    "for i, d in enumerate(rating_sum):\n",
    "    print(\"{}-star reviews: {}\".format(i,d))"
   ]
  },
  {
   "cell_type": "code",
   "execution_count": 5,
   "metadata": {},
   "outputs": [
    {
     "name": "stdout",
     "output_type": "stream",
     "text": [
      "Simple predictor that estimates rating from review length:\n",
      "Star Rating =~ 3.68568135501692 + 6.873716748962714e-05 x [review length in characters]\n",
      "θ0 = 3.68568135501692\n",
      "θ1 = 6.873716748962714e-05\n",
      "MSE = 1.552208662235533\n"
     ]
    },
    {
     "name": "stderr",
     "output_type": "stream",
     "text": [
      "C:\\Users\\SD-PC\\Anaconda3\\lib\\site-packages\\ipykernel_launcher.py:8: FutureWarning: `rcond` parameter will change to the default of machine precision times ``max(M, N)`` where M and N are the input matrix dimensions.\n",
      "To use the future default and silence this warning we advise to pass `rcond=None`, to keep using the old, explicitly pass `rcond=-1`.\n",
      "  \n"
     ]
    }
   ],
   "source": [
    "print(\"Simple predictor that estimates rating from review length:\")\n",
    "def feature(datum):\n",
    "    feat = [1, len(datum['review_text'])]\n",
    "    return feat\n",
    "\n",
    "X = [feature(d) for d in data]\n",
    "y = [d['rating'] for d in data]\n",
    "theta,residuals,rank,s = np.linalg.lstsq(X, y)\n",
    "mse = sum((y - np.dot(X, theta))**2) / len(y)\n",
    "\n",
    "print(\"Star Rating =~ {} + {} x [review length in characters]\".format(theta[0], theta[1]))\n",
    "print(\"θ0 = {}\".format(theta[0]))\n",
    "print(\"θ1 = {}\".format(theta[1]))\n",
    "print(\"MSE = {}\".format(mse))"
   ]
  },
  {
   "cell_type": "code",
   "execution_count": 6,
   "metadata": {},
   "outputs": [
    {
     "name": "stdout",
     "output_type": "stream",
     "text": [
      "Re-training predictor so as to include a second feature based on the number of comments:\n",
      "Star Rating =~ 3.689167374290103 + 7.584074903973424e-05 x [review length in characters] + -0.03279289354454787 x [number of comments]\n",
      "θ0 = 3.689167374290103\n",
      "θ1 = 7.584074903973424e-05\n",
      "θ2 = -0.03279289354454787\n",
      "MSE = 1.549835169277462\n",
      "θ1 is different this time, because we trained our predictor also on the feature of # of comments in addition to review length.\n"
     ]
    },
    {
     "name": "stderr",
     "output_type": "stream",
     "text": [
      "C:\\Users\\SD-PC\\Anaconda3\\lib\\site-packages\\ipykernel_launcher.py:8: FutureWarning: `rcond` parameter will change to the default of machine precision times ``max(M, N)`` where M and N are the input matrix dimensions.\n",
      "To use the future default and silence this warning we advise to pass `rcond=None`, to keep using the old, explicitly pass `rcond=-1`.\n",
      "  \n"
     ]
    }
   ],
   "source": [
    "print(\"Re-training predictor so as to include a second feature based on the number of comments:\")\n",
    "def feature(datum):\n",
    "    feat = [1, len(datum['review_text']), datum['n_comments']]\n",
    "    return feat\n",
    "\n",
    "X = [feature(d) for d in data]\n",
    "y = [d['rating'] for d in data]\n",
    "theta,residuals,rank,s = np.linalg.lstsq(X, y)\n",
    "mse = sum((y - np.dot(X, theta))**2) / len(y)\n",
    "\n",
    "print(\"Star Rating =~ {} + {} x [review length in characters] + {} x [number of comments]\".format(theta[0], theta[1], theta[2]))\n",
    "print(\"θ0 = {}\".format(theta[0]))\n",
    "print(\"θ1 = {}\".format(theta[1]))\n",
    "print(\"θ2 = {}\".format(theta[2]))\n",
    "print(\"MSE = {}\".format(mse))\n",
    "\n",
    "print(\"θ1 is different this time, because we trained our predictor also on the feature of # of comments in addition to review length.\")"
   ]
  },
  {
   "cell_type": "code",
   "execution_count": 7,
   "metadata": {},
   "outputs": [
    {
     "name": "stdout",
     "output_type": "stream",
     "text": [
      "Model that fits a polynomial function to estimate ratings based on review length:\n",
      "Degree 1:\n",
      "MSE = 1.5522086622355333\n",
      "\n",
      "Degree 2:\n",
      "MSE = 1.5506567696339402\n",
      "\n",
      "Degree 3:\n",
      "MSE = 1.549798532380552\n",
      "\n",
      "Degree 4:"
     ]
    },
    {
     "name": "stderr",
     "output_type": "stream",
     "text": [
      "C:\\Users\\SD-PC\\Anaconda3\\lib\\site-packages\\ipykernel_launcher.py:14: FutureWarning: `rcond` parameter will change to the default of machine precision times ``max(M, N)`` where M and N are the input matrix dimensions.\n",
      "To use the future default and silence this warning we advise to pass `rcond=None`, to keep using the old, explicitly pass `rcond=-1`.\n",
      "  \n"
     ]
    },
    {
     "name": "stdout",
     "output_type": "stream",
     "text": [
      "\n",
      "MSE = 1.5496291324524685\n",
      "\n",
      "Degree 5:\n",
      "MSE = 1.5496142023298658\n",
      "\n"
     ]
    }
   ],
   "source": [
    "print(\"Model that fits a polynomial function to estimate ratings based on review length:\")\n",
    "def feature(datum, p, maxlen):\n",
    "    feat = [1]\n",
    "    for i in range(1, p+1):\n",
    "        feat.append((len(datum['review_text'])/maxlen)**i)\n",
    "    return feat\n",
    "\n",
    "#Normalizing data:\n",
    "maxlen = max([len(d['review_text']) for d in data])\n",
    "\n",
    "for i in range(1, 6):\n",
    "    X = [feature(d, i, maxlen) for d in data]\n",
    "    y = [d['rating'] for d in data]\n",
    "    theta,residuals,rank,s = np.linalg.lstsq(X, y)\n",
    "    mse = sum((y - np.dot(X, theta))**2) / len(y)\n",
    "    print(\"Degree {}:\".format(i))\n",
    "    print(\"MSE = {}\".format(mse))\n",
    "    #print(\"Thetas:\", theta)\n",
    "    print()"
   ]
  },
  {
   "cell_type": "code",
   "execution_count": 8,
   "metadata": {},
   "outputs": [
    {
     "name": "stderr",
     "output_type": "stream",
     "text": [
      "C:\\Users\\SD-PC\\Anaconda3\\lib\\site-packages\\ipykernel_launcher.py:24: FutureWarning: `rcond` parameter will change to the default of machine precision times ``max(M, N)`` where M and N are the input matrix dimensions.\n",
      "To use the future default and silence this warning we advise to pass `rcond=None`, to keep using the old, explicitly pass `rcond=-1`.\n"
     ]
    },
    {
     "name": "stdout",
     "output_type": "stream",
     "text": [
      "Split the data into a training and test set:\n",
      "Degree 1:\n",
      "Train MSE = 1.5896633963799565\n",
      "Test MSE = 1.5160721103073511\n",
      "\n",
      "Degree 2:\n",
      "Train MSE = 1.5881356266932174\n",
      "Test MSE = 1.5143755692238003\n",
      "\n",
      "Degree 3:\n",
      "Train MSE = 1.5881328812938094\n",
      "Test MSE = 1.5141975748144305\n",
      "\n",
      "Degree 4:\n",
      "Train MSE = 1.5880518165234623\n",
      "Test MSE = 1.5141643190895937\n",
      "\n",
      "Degree 5:\n",
      "Train MSE = 1.5880454776929163\n",
      "Test MSE = 1.5141471843061511\n",
      "\n"
     ]
    }
   ],
   "source": [
    "print(\"Split the data into a training and test set:\")\n",
    "def feature(datum, p, maxlen):\n",
    "    feat = [1]\n",
    "    for i in range(1, p+1):\n",
    "        feat.append((len(datum['review_text'])/maxlen)**i)\n",
    "    return feat\n",
    "\n",
    "#Splitting data:\n",
    "temp = data\n",
    "random.shuffle(temp)\n",
    "train_data = temp[:len(temp)//2]\n",
    "test_data = temp[len(temp)//2:]\n",
    "\n",
    "#Normalizing data:\n",
    "train_maxlen = max([len(d['review_text']) for d in train_data])\n",
    "test_maxlen = max([len(d['review_text']) for d in test_data])\n",
    "\n",
    "for i in range(1, 6):\n",
    "    train_X = [feature(d, i, train_maxlen) for d in train_data]\n",
    "    train_y = [d['rating'] for d in train_data]\n",
    "    test_X = [feature(d, i, test_maxlen) for d in test_data]\n",
    "    test_y = [d['rating'] for d in test_data]\n",
    "    \n",
    "    theta,residuals,rank,s = np.linalg.lstsq(train_X, train_y)\n",
    "    train_mse = sum((train_y - np.dot(train_X, theta))**2) / len(train_y)\n",
    "    \n",
    "    test_mse = sum((test_y - np.dot(test_X, theta))**2) / len(test_y)\n",
    "    print(\"Degree {}:\".format(i))\n",
    "    print(\"Train MSE = {}\".format(train_mse))\n",
    "    print(\"Test MSE = {}\".format(test_mse))\n",
    "    #print(\"Thetas:\", theta)\n",
    "    print()"
   ]
  },
  {
   "cell_type": "markdown",
   "metadata": {},
   "source": [
    "**Classification**"
   ]
  },
  {
   "cell_type": "code",
   "execution_count": 9,
   "metadata": {},
   "outputs": [
    {
     "name": "stdout",
     "output_type": "stream",
     "text": [
      "Reading data...\n",
      "done\n"
     ]
    }
   ],
   "source": [
    "print(\"Reading data...\")\n",
    "# Download from http://jmcauley.ucsd.edu/cse258/data/amazon/book_descriptions_50000.json\n",
    "data = []\n",
    "data2 = list(parseData(\"data/beer_50000.json\"))\n",
    "for l in data2:\n",
    "    if 'user/gender' in l:\n",
    "        data.append(l)\n",
    "print(\"done\")"
   ]
  },
  {
   "cell_type": "code",
   "execution_count": 10,
   "metadata": {},
   "outputs": [
    {
     "name": "stdout",
     "output_type": "stream",
     "text": [
      "Logistic regressor that estimates gender from review length:\n"
     ]
    },
    {
     "name": "stderr",
     "output_type": "stream",
     "text": [
      "C:\\Users\\SD-PC\\Anaconda3\\lib\\site-packages\\sklearn\\linear_model\\logistic.py:432: FutureWarning: Default solver will be changed to 'lbfgs' in 0.22. Specify a solver to silence this warning.\n",
      "  FutureWarning)\n"
     ]
    },
    {
     "name": "stdout",
     "output_type": "stream",
     "text": [
      "TP rate: 0.0\n",
      "FP rate: 0.0\n",
      "TN rate: 1.0\n",
      "FN rate: 1.0\n",
      "BER: 0.5\n"
     ]
    }
   ],
   "source": [
    "print(\"Logistic regressor that estimates gender from review length:\")\n",
    "def feature(datum):\n",
    "    feat = [len(datum['review/text'])]\n",
    "    return feat\n",
    "\n",
    "X = [feature(d) for d in data]\n",
    "y = [0 if d['user/gender']=='Male' else 1 for d in data]\n",
    "\n",
    "mod = linear_model.LogisticRegression(C=1.0)\n",
    "mod.fit(X, y)\n",
    "\n",
    "pred = mod.predict(X)\n",
    "correct = pred == y\n",
    "\n",
    "# True positives, false positives, etc.\n",
    "TP_ = np.logical_and(pred, y)\n",
    "FP_ = np.logical_and(pred, np.logical_not(y))\n",
    "TN_ = np.logical_and(np.logical_not(pred), np.logical_not(y))\n",
    "FN_ = np.logical_and(np.logical_not(pred), y)\n",
    "\n",
    "TP = sum(TP_)\n",
    "FP = sum(FP_)\n",
    "TN = sum(TN_)\n",
    "FN = sum(FN_)\n",
    "\n",
    "TPR = TP / (TP+FN)\n",
    "TNR = TN / (TN+FP)\n",
    "FPR = FP / (FP+TN)\n",
    "FNR = FN / (TP+FN)\n",
    "\n",
    "BER = 1 - 0.5 * (TP / (TP + FN) + TN / (TN + FP))\n",
    "\n",
    "print(\"TP rate: {}\".format(TPR))\n",
    "print(\"FP rate: {}\".format(FPR))\n",
    "print(\"TN rate: {}\".format(TNR))\n",
    "print(\"FN rate: {}\".format(FNR))\n",
    "print(\"BER: {}\".format(BER))"
   ]
  },
  {
   "cell_type": "code",
   "execution_count": 11,
   "metadata": {},
   "outputs": [
    {
     "name": "stdout",
     "output_type": "stream",
     "text": [
      "Retraining the regressor using the class_weight=’balanced’ option:\n"
     ]
    },
    {
     "name": "stderr",
     "output_type": "stream",
     "text": [
      "C:\\Users\\SD-PC\\Anaconda3\\lib\\site-packages\\sklearn\\linear_model\\logistic.py:432: FutureWarning: Default solver will be changed to 'lbfgs' in 0.22. Specify a solver to silence this warning.\n",
      "  FutureWarning)\n"
     ]
    },
    {
     "name": "stdout",
     "output_type": "stream",
     "text": [
      "TP rate: 0.6461038961038961\n",
      "FP rate: 0.5795969146553869\n",
      "TN rate: 0.42040308534461307\n",
      "FN rate: 0.3538961038961039\n",
      "BER: 0.46674650927574546\n"
     ]
    }
   ],
   "source": [
    "print(\"Retraining the regressor using the class_weight=’balanced’ option:\")\n",
    "def feature(datum):\n",
    "    feat = [len(datum['review/text'])]\n",
    "    return feat\n",
    "\n",
    "X = [feature(d) for d in data]\n",
    "y = [0 if d['user/gender']=='Male' else 1 for d in data]\n",
    "\n",
    "mod = linear_model.LogisticRegression(C=1.0, class_weight='balanced')\n",
    "mod.fit(X, y)\n",
    "\n",
    "pred = mod.predict(X)\n",
    "correct = pred == y\n",
    "\n",
    "# True positives, false positives, etc.\n",
    "TP_ = np.logical_and(pred, y)\n",
    "FP_ = np.logical_and(pred, np.logical_not(y))\n",
    "TN_ = np.logical_and(np.logical_not(pred), np.logical_not(y))\n",
    "FN_ = np.logical_and(np.logical_not(pred), y)\n",
    "\n",
    "TP = sum(TP_)/len(y)\n",
    "FP = sum(FP_)/len(y)\n",
    "TN = sum(TN_)/len(y)\n",
    "FN = sum(FN_)/len(y)\n",
    "TPR = TP / (TP+FN)\n",
    "TNR = TN / (TN+FP)\n",
    "FPR = FP / (FP+TN)\n",
    "FNR = FN / (TP+FN)\n",
    "\n",
    "BER = 1 - 0.5 * (TP / (TP + FN) + TN / (TN + FP))\n",
    "\n",
    "print(\"TP rate: {}\".format(TPR))\n",
    "print(\"FP rate: {}\".format(FPR))\n",
    "print(\"TN rate: {}\".format(TNR))\n",
    "print(\"FN rate: {}\".format(FNR))\n",
    "print(\"BER: {}\".format(BER))"
   ]
  },
  {
   "cell_type": "code",
   "execution_count": 12,
   "metadata": {},
   "outputs": [
    {
     "name": "stdout",
     "output_type": "stream",
     "text": [
      "Incorporating additional features from the data:\n"
     ]
    },
    {
     "name": "stderr",
     "output_type": "stream",
     "text": [
      "C:\\Users\\SD-PC\\Anaconda3\\lib\\site-packages\\sklearn\\linear_model\\logistic.py:432: FutureWarning: Default solver will be changed to 'lbfgs' in 0.22. Specify a solver to silence this warning.\n",
      "  FutureWarning)\n"
     ]
    },
    {
     "name": "stdout",
     "output_type": "stream",
     "text": [
      "TP rate: 0.5844155844155844\n",
      "FP rate: 0.5057476984324459\n",
      "TN rate: 0.4942523015675542\n",
      "FN rate: 0.41558441558441556\n",
      "BER: 0.46066605700843066\n"
     ]
    }
   ],
   "source": [
    "print(\"Incorporating additional features from the data:\")\n",
    "def feature(datum):\n",
    "    feat = [len(datum['review/text']), datum['review/appearance'], datum['review/palate'],datum['review/taste'],datum['review/overall'],datum['review/aroma'], datum['beer/ABV']]\n",
    "    return feat\n",
    "\n",
    "X = np.array([feature(d) for d in data])\n",
    "X = X / X.max(axis=0)\n",
    "y = [0 if d['user/gender']=='Male' else 1 for d in data]\n",
    "\n",
    "mod = linear_model.LogisticRegression(C=1.0, class_weight='balanced')\n",
    "mod.fit(X, y)\n",
    "\n",
    "pred = mod.predict(X)\n",
    "correct = pred == y\n",
    "\n",
    "# True positives, false positives, etc.\n",
    "TP_ = np.logical_and(pred, y)\n",
    "FP_ = np.logical_and(pred, np.logical_not(y))\n",
    "TN_ = np.logical_and(np.logical_not(pred), np.logical_not(y))\n",
    "FN_ = np.logical_and(np.logical_not(pred), y)\n",
    "\n",
    "TP = sum(TP_)/len(y)\n",
    "FP = sum(FP_)/len(y)\n",
    "TN = sum(TN_)/len(y)\n",
    "FN = sum(FN_)/len(y)\n",
    "TPR = TP / (TP+FN)\n",
    "TNR = TN / (TN+FP)\n",
    "FPR = FP / (FP+TN)\n",
    "FNR = FN / (TP+FN)\n",
    "\n",
    "BER = 1 - 0.5 * (TP / (TP + FN) + TN / (TN + FP))\n",
    "\n",
    "print(\"TP rate: {}\".format(TPR))\n",
    "print(\"FP rate: {}\".format(FPR))\n",
    "print(\"TN rate: {}\".format(TNR))\n",
    "print(\"FN rate: {}\".format(FNR))\n",
    "print(\"BER: {}\".format(BER))"
   ]
  },
  {
   "cell_type": "code",
   "execution_count": null,
   "metadata": {},
   "outputs": [],
   "source": []
  }
 ],
 "metadata": {
  "kernelspec": {
   "display_name": "Python 3",
   "language": "python",
   "name": "python3"
  },
  "language_info": {
   "codemirror_mode": {
    "name": "ipython",
    "version": 3
   },
   "file_extension": ".py",
   "mimetype": "text/x-python",
   "name": "python",
   "nbconvert_exporter": "python",
   "pygments_lexer": "ipython3",
   "version": "3.7.4"
  }
 },
 "nbformat": 4,
 "nbformat_minor": 4
}

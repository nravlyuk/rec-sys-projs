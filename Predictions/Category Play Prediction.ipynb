{
 "cells": [
  {
   "cell_type": "code",
   "execution_count": 1,
   "metadata": {},
   "outputs": [],
   "source": [
    "import gzip\n",
    "import random\n",
    "import string\n",
    "import numpy as np\n",
    "import matplotlib.pyplot as plt\n",
    "from collections import defaultdict\n",
    "from sklearn import linear_model\n",
    "from sklearn.metrics import balanced_accuracy_score\n",
    "from nltk.stem.porter import *\n",
    "\n",
    "def readJSON(path):\n",
    "    for l in gzip.open(path, 'r+'):\n",
    "        d = eval(l)\n",
    "        u = d['userID']\n",
    "        try:\n",
    "            g = d['gameID']\n",
    "        except Exception as e:\n",
    "            g = None\n",
    "        yield u,g,d"
   ]
  },
  {
   "cell_type": "code",
   "execution_count": 2,
   "metadata": {},
   "outputs": [],
   "source": [
    "train_num = 165000 #165000\n",
    "bag_words_size = 500 #1000\n",
    "\n",
    "data = [d for (u,g,d) in readJSON(\"train_Category.json.gz\")]\n",
    "data_train = data[:train_num]\n",
    "data_valid = data[165000:]"
   ]
  },
  {
   "cell_type": "code",
   "execution_count": 3,
   "metadata": {},
   "outputs": [
    {
     "data": {
      "text/plain": [
       "10000"
      ]
     },
     "execution_count": 3,
     "metadata": {},
     "output_type": "execute_result"
    }
   ],
   "source": [
    "len(data_valid)"
   ]
  },
  {
   "cell_type": "code",
   "execution_count": 4,
   "metadata": {},
   "outputs": [
    {
     "name": "stdout",
     "output_type": "stream",
     "text": [
      "Prcessing data:\n",
      "10 most common words:\n",
      "the : 544606\n",
      "and : 317631\n",
      "a : 305416\n",
      "to : 291920\n",
      "game : 285193\n",
      "it : 274597\n",
      "of : 227236\n",
      "is : 208417\n",
      "you : 200642\n",
      "i : 195958\n"
     ]
    }
   ],
   "source": [
    "print(\"Prcessing data:\")\n",
    "\n",
    "wordCount = defaultdict(int)\n",
    "punctuation = set(string.punctuation)\n",
    "stemmer = PorterStemmer()\n",
    "for d in data_train:\n",
    "    r = ''.join([c for c in d['text'].lower() if not c in punctuation])\n",
    "    for w in r.split():\n",
    "        w = stemmer.stem(w)\n",
    "        wordCount[w] += 1\n",
    "\n",
    "counts = [(wordCount[w], w) for w in wordCount]\n",
    "counts.sort()\n",
    "counts.reverse()\n",
    "\n",
    "words = [x[1] for x in counts[:bag_words_size]]\n",
    "\n",
    "print(\"10 most common words:\")\n",
    "for w in words[:10]:\n",
    "    print(\"{} : {}\".format(w, wordCount[w]))"
   ]
  },
  {
   "cell_type": "code",
   "execution_count": 5,
   "metadata": {},
   "outputs": [],
   "source": [
    "genreWords = [[], [], [] ,[] ,[]]\n",
    "for d in data_train:\n",
    "    genreWords[d['genreID']].append(d['text'].lower())\n",
    "for i in range(len(genreWords)):\n",
    "    for j in range(len(genreWords[i])):\n",
    "        genreWords[i][j] = str(genreWords[i][j]).replace('\\n', \"\")\n",
    "        genreWords[i][j] = str(genreWords[i][j]).replace(\"'\", \"\")\n",
    "        genreWords[i][j] = str(genreWords[i][j]).replace(\",\", \"\")\n",
    "        genreWords[i][j] = str(genreWords[i][j]).replace(\"͡°\", \"\")\n",
    "for c in string.punctuation:\n",
    "    for i in range(len(genreWords)):\n",
    "        for j in range(len(genreWords[i])):\n",
    "            genreWords[i][j] = str(genreWords[i][j]).replace(c, \"\")\n",
    "corpus = [str(genreWords[i]) for i in range(len(genreWords))]"
   ]
  },
  {
   "cell_type": "code",
   "execution_count": null,
   "metadata": {},
   "outputs": [],
   "source": []
  },
  {
   "cell_type": "code",
   "execution_count": 6,
   "metadata": {},
   "outputs": [
    {
     "name": "stderr",
     "output_type": "stream",
     "text": [
      "/opt/conda/lib/python3.7/site-packages/sklearn/feature_extraction/text.py:385: UserWarning: Your stop_words may be inconsistent with your preprocessing. Tokenizing the stop words generated tokens [\"'d\", \"'ll\", \"'re\", \"'s\", \"'ve\", 'could', 'might', 'must', \"n't\", 'need', 'sha', 'wo', 'would'] not in stop_words.\n",
      "  'stop_words.' % sorted(inconsistent))\n"
     ]
    },
    {
     "data": {
      "text/plain": [
       "Action            waka\n",
       "Strategy      mrboness\n",
       "RPG             ffxiii\n",
       "Adventure      deponia\n",
       "Sport        autosport\n",
       "dtype: object"
      ]
     },
     "execution_count": 6,
     "metadata": {},
     "output_type": "execute_result"
    }
   ],
   "source": [
    "# import stop words and tokenizer\n",
    "import pandas as pd\n",
    "from nltk.corpus import stopwords\n",
    "from nltk.tokenize import word_tokenize\n",
    "stop_words = set(stopwords.words('english'))\n",
    "from sklearn.feature_extraction.text import TfidfVectorizer\n",
    "# create vectorizer\n",
    "tfidf = TfidfVectorizer(sublinear_tf=True,\n",
    "                        analyzer='word',\n",
    "                        max_features=10000,\n",
    "                        tokenizer=word_tokenize,\n",
    "                        stop_words=stop_words)\n",
    "\n",
    "# calculate TF-IDF\n",
    "cogs_tfidf = pd.DataFrame(tfidf.fit_transform(corpus).toarray())\n",
    "cogs_tfidf.columns = tfidf.get_feature_names()\n",
    "cogs_tfidf = cogs_tfidf.rename(index={0:'Action', 1:'Strategy',2:'RPG', 3:'Adventure', 4:'Sport'})\n",
    "\n",
    "most_unique = cogs_tfidf.idxmax(axis=1) \n",
    "most_unique"
   ]
  },
  {
   "cell_type": "code",
   "execution_count": 7,
   "metadata": {},
   "outputs": [],
   "source": [
    "tfidf_words_set = set()\n",
    "tfidf_words_set.update(cogs_tfidf.sort_values(by='Action', axis=1, ascending=False).columns[:400])\n",
    "tfidf_words_set.update(cogs_tfidf.sort_values(by='Strategy', axis=1, ascending=False).columns[:400])\n",
    "tfidf_words_set.update(cogs_tfidf.sort_values(by='RPG', axis=1, ascending=False).columns[:400])\n",
    "tfidf_words_set.update(cogs_tfidf.sort_values(by='Adventure', axis=1, ascending=False).columns[:400])\n",
    "tfidf_words_set.update(cogs_tfidf.sort_values(by='Sport', axis=1, ascending=False).columns[:400])\n",
    "len(tfidf_words_set)\n",
    "words = set(words) | tfidf_words_set"
   ]
  },
  {
   "cell_type": "code",
   "execution_count": 8,
   "metadata": {},
   "outputs": [
    {
     "data": {
      "text/plain": [
       "1013"
      ]
     },
     "execution_count": 8,
     "metadata": {},
     "output_type": "execute_result"
    }
   ],
   "source": [
    "len(tfidf_words_set)"
   ]
  },
  {
   "cell_type": "code",
   "execution_count": 9,
   "metadata": {},
   "outputs": [
    {
     "name": "stdout",
     "output_type": "stream",
     "text": [
      "Bag-of-words feature vectors:\n"
     ]
    }
   ],
   "source": [
    "print(\"Bag-of-words feature vectors:\")\n",
    "\n",
    "wordId = dict(zip(words, range(len(words))))\n",
    "wordSet = set(words)\n",
    "tfidf_words_set \n",
    "\n",
    "def feature(datum):\n",
    "    feat = [0]*len(words)\n",
    "    r = ''.join([c for c in datum['text'].lower() if not c in punctuation])\n",
    "    for w in r.split():\n",
    "        w = stemmer.stem(w)\n",
    "        if w in words:\n",
    "            feat[wordId[w]] += 1\n",
    "    feat.append(1) #offset\n",
    "    return feat\n",
    "\n",
    "def find_accuracy(pred, y):\n",
    "    correct = np.array(pred) == np.array(y)\n",
    "    return sum(correct) / len(correct)\n",
    "\n",
    "#catDict = {}\n",
    "#for d in data_train:\n",
    "#    cat = d['genre']\n",
    "#    if cat not in catDict:\n",
    "#        catDict[cat] = len(catDict)\n",
    "catDict = {\n",
    "  \"Action\": 0,\n",
    "  \"Strategy\": 1,\n",
    "  \"RPG\": 2,\n",
    "  \"Adventure\": 3,\n",
    "  \"Sport\": 4\n",
    "}\n",
    "\n",
    "# Train on train set\n",
    "X_train = [feature(d) for d in data_train]\n",
    "y_train = [catDict[d['genre']] if d['genre'] in catDict else 0 for d in data_train]\n",
    "\n",
    "\n",
    "#mod = linear_model.LogisticRegression(max_iter = 10000)\n",
    "#mod.fit(X_train, y_train)\n",
    "\n",
    "# Validate on validate set\n",
    "#X_valid = [feature(d) for d in data_valid]\n",
    "#y_valid = [catDict[d['genre']] if d['genre'] in catDict else 0 for d in data_valid]\n",
    "#pred = mod.predict(X_valid)\n",
    "\n",
    "#print(\"Accuracy: {}\".format(find_accuracy(pred, y_valid)))\n",
    "#print(\"BER: {}\".format(balanced_accuracy_score(y_valid, pred)))"
   ]
  },
  {
   "cell_type": "code",
   "execution_count": 10,
   "metadata": {},
   "outputs": [
    {
     "name": "stdout",
     "output_type": "stream",
     "text": [
      "Improve upon the performance of the above classifier:\n",
      "C = 1000 shows best results with accuracy = 0.6444, and BER = 0.5157004936325214\n"
     ]
    },
    {
     "data": {
      "text/plain": [
       "[<matplotlib.lines.Line2D at 0x7fabe166ef50>]"
      ]
     },
     "execution_count": 10,
     "metadata": {},
     "output_type": "execute_result"
    },
    {
     "data": {
      "image/png": "[encoded data removed]",
      "text/plain": [
       "<Figure size 432x288 with 1 Axes>"
      ]
     },
     "metadata": {
      "needs_background": "light"
     },
     "output_type": "display_data"
    }
   ],
   "source": [
    "from sklearn.neural_network import MLPClassifier\n",
    "print(\"Improve upon the performance of the above classifier:\")\n",
    "C_values = [1000]\n",
    "accs = []\n",
    "bers = []\n",
    "for c in C_values:\n",
    "    #mod = linear_model.LogisticRegression(C=c, max_iter = 10000)\n",
    "    mod = MLPClassifier(hidden_layer_sizes=(100,), max_iter = 10000, max_fun = 420)\n",
    "    mod.fit(X_train, y_train)\n",
    "    \n",
    "    X_valid = [feature(d) for d in data_valid]\n",
    "    y_valid = [catDict[d['genre']] if d['genre'] in catDict else 0 for d in data_valid]\n",
    "    pred = mod.predict(X_valid)\n",
    "    \n",
    "    accs.append(find_accuracy(pred, y_valid))\n",
    "    bers.append(balanced_accuracy_score(y_valid, pred))\n",
    "    \n",
    "max_index = accs.index(max(accs))\n",
    "best_c = C_values[max_index]\n",
    "print(\"C = {} shows best results with accuracy = {}, and BER = {}\".format(C_values[max_index], accs[max_index], bers[max_index]))\n",
    "\n",
    "plt.xlabel('C')\n",
    "plt.ylabel('Accuracy')\n",
    "plt.title('Accuracy chart')\n",
    "plt.plot(C_values, accs)\n",
    "    "
   ]
  },
  {
   "cell_type": "code",
   "execution_count": 11,
   "metadata": {},
   "outputs": [
    {
     "data": {
      "text/plain": [
       "[<matplotlib.lines.Line2D at 0x7fabd4f7a590>]"
      ]
     },
     "execution_count": 11,
     "metadata": {},
     "output_type": "execute_result"
    },
    {
     "data": {
      "image/png": "[encoded data removed]",
      "text/plain": [
       "<Figure size 432x288 with 1 Axes>"
      ]
     },
     "metadata": {
      "needs_background": "light"
     },
     "output_type": "display_data"
    }
   ],
   "source": [
    "plt.xlabel('C')\n",
    "plt.ylabel('BER')\n",
    "plt.title('BER chart')\n",
    "plt.plot(C_values, bers)"
   ]
  },
  {
   "cell_type": "code",
   "execution_count": 12,
   "metadata": {},
   "outputs": [],
   "source": [
    "predictions = open(\"predictions_Category.txt\", 'w')\n",
    "predictions.write(\"userID-reviewID,prediction\\n\")\n",
    "for u,_,d in readJSON(\"test_Category.json.gz\"):\n",
    "    X = [feature(d)]\n",
    "    cat = mod.predict(X)\n",
    "    predictions.write(u + '-' + d['reviewID'] + \",\" + str(cat[0]) + \"\\n\")\n",
    "\n",
    "predictions.close()"
   ]
  },
  {
   "cell_type": "code",
   "execution_count": null,
   "metadata": {},
   "outputs": [],
   "source": []
  }
 ],
 "metadata": {
  "kernelspec": {
   "display_name": "Python 3",
   "language": "python",
   "name": "python3"
  },
  "language_info": {
   "codemirror_mode": {
    "name": "ipython",
    "version": 3
   },
   "file_extension": ".py",
   "mimetype": "text/x-python",
   "name": "python",
   "nbconvert_exporter": "python",
   "pygments_lexer": "ipython3",
   "version": "3.7.6"
  }
 },
 "nbformat": 4,
 "nbformat_minor": 4
}
